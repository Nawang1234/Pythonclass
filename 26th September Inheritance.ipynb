{
 "cells": [
  {
   "cell_type": "code",
   "execution_count": null,
   "id": "c3705c50-2ea4-4550-899c-d787582c0e0a",
   "metadata": {},
   "outputs": [],
   "source": [
    "#Inheritance \n",
    "#Property from Parent to Child\n",
    "#class Partent\n",
    "#class child(Partent)"
   ]
  },
  {
   "cell_type": "code",
   "execution_count": 19,
   "id": "45b78a96-7359-4005-8ce4-813b1357fa16",
   "metadata": {},
   "outputs": [
    {
     "name": "stdout",
     "output_type": "stream",
     "text": [
      "explore() method from class A\n",
      "explore() method from class B\n",
      "explore() method from class A\n"
     ]
    }
   ],
   "source": [
    "class A:\n",
    "    def explore(self):\n",
    "        print(\"explore() method from class A\")\n",
    "        \n",
    "class B(A):\n",
    "    def explore(self):\n",
    "        super().explore()  # Calling the method from class A #access parent property\n",
    "        print(\"explore() method from class B\")\n",
    "        \n",
    "b_obj = B()\n",
    "a_obj = A()\n",
    "\n",
    "b_obj.explore()  # Will first call A's explore, then B's explore\n",
    "a_obj.explore() "
   ]
  },
  {
   "cell_type": "code",
   "execution_count": 55,
   "id": "5e001342-1e21-4508-a35c-02c8e8c316f5",
   "metadata": {},
   "outputs": [
    {
     "name": "stdout",
     "output_type": "stream",
     "text": [
      "Square of 1: 1 * 1 = 1\n",
      "Square of 2: 2 * 2 = 4\n",
      "Square of 3: 3 * 3 = 9\n",
      "Square of 4: 4 * 4 = 16\n",
      "Square of 5: 5 * 5 = 25\n",
      "Square of 6: 6 * 6 = 36\n",
      "Square of 7: 7 * 7 = 49\n",
      "Square of 8: 8 * 8 = 64\n",
      "Square of 9: 9 * 9 = 81\n"
     ]
    }
   ],
   "source": [
    "for i in range(1, 10):\n",
    "    square = i * i\n",
    "    print(f\"Square of {i}: {i} * {i} = {square}\")"
   ]
  },
  {
   "cell_type": "code",
   "execution_count": 53,
   "id": "b2a67bc4-9846-453e-84ce-7de40c2c7f2a",
   "metadata": {},
   "outputs": [
    {
     "name": "stdout",
     "output_type": "stream",
     "text": [
      "[1, 4, 9, 16, 25, 36, 49, 64, 81]\n",
      "[1, 9, 25, 49, 81, 121, 169, 225, 289, 361]\n"
     ]
    }
   ],
   "source": [
    "#Comprehension... simplifying a long code to a single line for FOR\n",
    "\n",
    "squares_list = [i * i for i in range(1,10)]\n",
    "square_odd_list = [x * x for x in range(1,20) if x % 2 != 0]\n",
    "                   \n",
    "print(squares_list)\n",
    "print(square_odd_list)"
   ]
  },
  {
   "cell_type": "code",
   "execution_count": 57,
   "id": "cb2db5fc-7ec2-4665-916a-ff17ae3edfda",
   "metadata": {},
   "outputs": [
    {
     "data": {
      "text/plain": [
       "[0, 1, 4, 3, 16, 5, 36, 7, 64, 9]"
      ]
     },
     "execution_count": 57,
     "metadata": {},
     "output_type": "execute_result"
    }
   ],
   "source": [
    "#Comprehension... simplifying a long code to a single line for If Else\n",
    "\n",
    "lst = [i*i if i %2 == 0 else i for i in range(10)]\n",
    "lst\n"
   ]
  },
  {
   "cell_type": "code",
   "execution_count": 71,
   "id": "e5f75949-b6b0-49fe-b350-901f7578f7bb",
   "metadata": {},
   "outputs": [
    {
     "name": "stdout",
     "output_type": "stream",
     "text": [
      "[0, 6, 12, 18]\n"
     ]
    }
   ],
   "source": [
    "lst = []\n",
    "for i in range(20):\n",
    "    if i % 2 == 0:\n",
    "        if i % 3 == 0:\n",
    "            lst.append(i)\n",
    "print (lst)"
   ]
  },
  {
   "cell_type": "code",
   "execution_count": 75,
   "id": "e31a477f-a1d2-42a6-914b-76ee8ef388de",
   "metadata": {},
   "outputs": [
    {
     "data": {
      "text/plain": [
       "[0, 6, 12, 18]"
      ]
     },
     "execution_count": 75,
     "metadata": {},
     "output_type": "execute_result"
    }
   ],
   "source": [
    "lst = [i for i in range (20) if i % 2 == 0 if i % 3 == 0]\n",
    "lst"
   ]
  },
  {
   "cell_type": "code",
   "execution_count": 79,
   "id": "00dbf4a8-f1d3-47ed-9e5b-c5306eb99716",
   "metadata": {},
   "outputs": [
    {
     "name": "stdout",
     "output_type": "stream",
     "text": [
      "['Steve', 'Rara', 'Sate']\n"
     ]
    }
   ],
   "source": [
    "lst = [name.capitalize() for name in ['STEVE', 'RaRa', 'SATE']]\n",
    "print (lst)"
   ]
  },
  {
   "cell_type": "code",
   "execution_count": 95,
   "id": "cb6164a4-19e1-4f90-b6c0-6721874f6fa0",
   "metadata": {},
   "outputs": [
    {
     "name": "stdout",
     "output_type": "stream",
     "text": [
      "{'Apple': 10.8, 'Banana': 10, 'Kiwi': 36.0, 'Grapes': 6}\n"
     ]
    }
   ],
   "source": [
    "bill = {\"Apple\": 12, \"Banana\": 10, \"Kiwi\": 40, \"Grapes\": 6}\n",
    "\n",
    "discounted_bill = {fruit: (price * 0.9 if price > 10 else price) for fruit, price in bill.items()}\n",
    "\n",
    "print(discounted_bill)"
   ]
  },
  {
   "cell_type": "code",
   "execution_count": 97,
   "id": "d5911d71-2114-4d4d-a4ff-c50942f2106a",
   "metadata": {},
   "outputs": [
    {
     "name": "stdout",
     "output_type": "stream",
     "text": [
      "{1: 1.0, 2: 1.4142135623730951, 3: 1.7320508075688772, 4: 2.0, 5: 2.23606797749979}\n"
     ]
    }
   ],
   "source": [
    "# Create a dictionary with square roots for whole numbers from 1 to 5\n",
    "square_roots_dict = {num: num**0.5 for num in range(1, 6)}\n",
    "\n",
    "print(square_roots_dict)"
   ]
  },
  {
   "cell_type": "code",
   "execution_count": null,
   "id": "c127f41c-f574-4a6f-a477-95525341a5f7",
   "metadata": {},
   "outputs": [],
   "source": []
  }
 ],
 "metadata": {
  "kernelspec": {
   "display_name": "Python 3 (ipykernel)",
   "language": "python",
   "name": "python3"
  },
  "language_info": {
   "codemirror_mode": {
    "name": "ipython",
    "version": 3
   },
   "file_extension": ".py",
   "mimetype": "text/x-python",
   "name": "python",
   "nbconvert_exporter": "python",
   "pygments_lexer": "ipython3",
   "version": "3.12.4"
  }
 },
 "nbformat": 4,
 "nbformat_minor": 5
}
