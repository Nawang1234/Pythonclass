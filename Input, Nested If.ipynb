{
 "cells": [
  {
   "cell_type": "code",
   "execution_count": 3,
   "id": "d75cba1d-d64a-4596-9aab-04528220fbe1",
   "metadata": {},
   "outputs": [
    {
     "name": "stdin",
     "output_type": "stream",
     "text": [
      "enter the amount 4\n"
     ]
    }
   ],
   "source": [
    "#\n",
    "amount = int (input('enter the amount'))"
   ]
  },
  {
   "cell_type": "code",
   "execution_count": 5,
   "id": "425273ff-a808-473f-97c2-bcccd7a15384",
   "metadata": {},
   "outputs": [
    {
     "name": "stdin",
     "output_type": "stream",
     "text": [
      "enter the name nawang sherpa\n"
     ]
    }
   ],
   "source": [
    "name = input ('enter the name')"
   ]
  },
  {
   "cell_type": "code",
   "execution_count": 11,
   "id": "6053a771-b44e-4eaf-890c-e24b75eff289",
   "metadata": {},
   "outputs": [
    {
     "name": "stdout",
     "output_type": "stream",
     "text": [
      "4\n"
     ]
    }
   ],
   "source": [
    "print(amount)"
   ]
  },
  {
   "cell_type": "code",
   "execution_count": 23,
   "id": "6a74fcd2-998f-47a1-a370-0f74b75ebe6d",
   "metadata": {},
   "outputs": [
    {
     "name": "stdin",
     "output_type": "stream",
     "text": [
      "enter the value of x 2\n"
     ]
    },
    {
     "name": "stdout",
     "output_type": "stream",
     "text": [
      " x is greater than 1\n"
     ]
    }
   ],
   "source": [
    "#if else condition with use of inputting values\n",
    "x = int (input('enter the value of x'))\n",
    "if x > 5:\n",
    "    print (' x is greater than 5 ')\n",
    "elif x > 3:\n",
    "    print(' x is greater than 3 ')\n",
    "elif x > 1:\n",
    "    print(' x is greater than 1')\n",
    "else:\n",
    "    print(' x is less than equal to 1')"
   ]
  },
  {
   "cell_type": "code",
   "execution_count": 25,
   "id": "dd209daa-761e-4ede-8d2c-6e38e05773a0",
   "metadata": {},
   "outputs": [
    {
     "name": "stdout",
     "output_type": "stream",
     "text": [
      "x is equal to 3\n"
     ]
    }
   ],
   "source": [
    "x = 3\n",
    "if x==3: print (\"x is equal to 3\") #if code in one line"
   ]
  },
  {
   "cell_type": "code",
   "execution_count": 32,
   "id": "4ffcee09-9e53-4b61-928a-0e06f173285f",
   "metadata": {},
   "outputs": [
    {
     "name": "stdin",
     "output_type": "stream",
     "text": [
      "enter the value of x: nawang\n"
     ]
    }
   ],
   "source": [
    "x = str(input('enter the value of x:'))\n"
   ]
  },
  {
   "cell_type": "code",
   "execution_count": 44,
   "id": "9bb0cd5b-1380-411e-be23-bc84e5492481",
   "metadata": {},
   "outputs": [
    {
     "name": "stdin",
     "output_type": "stream",
     "text": [
      "Enter the value of x:  1\n"
     ]
    },
    {
     "name": "stdout",
     "output_type": "stream",
     "text": [
      "x is less than or equal to 1\n"
     ]
    }
   ],
   "source": [
    "x = int(input(\"Enter the value of x: \"))\n",
    "\n",
    "if x > 5:\n",
    "    print(\"x is greater than 5\")\n",
    "elif x > 3:\n",
    "    print(\"x is greater than 3\")\n",
    "elif x > 1:\n",
    "    print(\"x is greater than 1\")\n",
    "else:\n",
    "    print(\"x is less than or equal to 1\")"
   ]
  },
  {
   "cell_type": "code",
   "execution_count": 58,
   "id": "e20f6f28-4aae-4eba-a1e6-51cc59a7a094",
   "metadata": {},
   "outputs": [
    {
     "name": "stdout",
     "output_type": "stream",
     "text": [
      " x is greater than 10\n",
      " and it is greater than or equal to  30\n"
     ]
    }
   ],
   "source": [
    "#nested if condition for multiple conditions\n",
    "# if                 }  nested       \n",
    "#     if             }   if\n",
    "#          if        }\n",
    "#               if   }\n",
    "\n",
    "x = 35\n",
    "if x > 10:\n",
    "    print ( \" x is greater than 10\")\n",
    "    if x < 30:\n",
    "        print (\" x is less than 30\")\n",
    "    else:\n",
    "        print (\" and it is greater than or equal to  30\")"
   ]
  },
  {
   "cell_type": "code",
   "execution_count": 60,
   "id": "320bed02-a446-4ffa-93cb-6f3f5196596b",
   "metadata": {},
   "outputs": [
    {
     "name": "stdout",
     "output_type": "stream",
     "text": [
      " x is greater than 10\n",
      " x is less than 30\n"
     ]
    }
   ],
   "source": [
    "x = 25\n",
    "if x > 10:\n",
    "    print ( \" x is greater than 10\")\n",
    "    if x < 30:\n",
    "        print (\" x is less than 30\")\n",
    "    else:\n",
    "        print (\" and it is greater than or equal to  30\")"
   ]
  },
  {
   "cell_type": "code",
   "execution_count": 78,
   "id": "f29ab2e4-e0c2-431a-8866-750d88901016",
   "metadata": {},
   "outputs": [
    {
     "name": "stdin",
     "output_type": "stream",
     "text": [
      "Enter the country:  India\n",
      "Total amount:  1211\n"
     ]
    },
    {
     "name": "stdout",
     "output_type": "stream",
     "text": [
      "Shipping cost for other than USA:\n",
      "Shipping cost = 10\n"
     ]
    }
   ],
   "source": [
    "country = input('Enter the country: ')\n",
    "amount = int(input(\"Total amount: \"))\n",
    "\n",
    "if country == \"USA\":\n",
    "    print(\"Shipping cost for USA:\")\n",
    "    if 100 > amount > 50:\n",
    "        print(\"Free shipping\")\n",
    "    elif amount > 100:\n",
    "        print(\"Shipping cost = 5\")\n",
    "else:\n",
    "    print(\"Shipping cost for other than USA:\")\n",
    "    if amount > 100:\n",
    "        print(\"Shipping cost = 10\")\n",
    "    else:\n",
    "        print(\"Shipping cost = 20\")"
   ]
  },
  {
   "cell_type": "code",
   "execution_count": null,
   "id": "13b8d394-f0b7-4dff-8571-7a9b6851d016",
   "metadata": {},
   "outputs": [],
   "source": []
  }
 ],
 "metadata": {
  "kernelspec": {
   "display_name": "Python 3 (ipykernel)",
   "language": "python",
   "name": "python3"
  },
  "language_info": {
   "codemirror_mode": {
    "name": "ipython",
    "version": 3
   },
   "file_extension": ".py",
   "mimetype": "text/x-python",
   "name": "python",
   "nbconvert_exporter": "python",
   "pygments_lexer": "ipython3",
   "version": "3.12.4"
  }
 },
 "nbformat": 4,
 "nbformat_minor": 5
}
