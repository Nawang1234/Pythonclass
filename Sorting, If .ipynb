{
 "cells": [
  {
   "cell_type": "code",
   "execution_count": 1,
   "id": "594b1e07-a836-4076-aa31-f7c56d53b6b1",
   "metadata": {},
   "outputs": [
    {
     "data": {
      "text/plain": [
       "['August', 'July', 'June', 'May']"
      ]
     },
     "execution_count": 1,
     "metadata": {},
     "output_type": "execute_result"
    }
   ],
   "source": [
    "months_list = ['May', 'June', 'July', 'August']\n",
    "months_list.sort()\n",
    "months_list"
   ]
  },
  {
   "cell_type": "code",
   "execution_count": 3,
   "id": "c2e68327-400c-4868-962f-fd8218600ee9",
   "metadata": {},
   "outputs": [
    {
     "data": {
      "text/plain": [
       "['1925', '1921', '1905', '1900']"
      ]
     },
     "execution_count": 3,
     "metadata": {},
     "output_type": "execute_result"
    }
   ],
   "source": [
    "#reverse function is used to make ascending date, descending or vice versa \n",
    "years_list = ['1900', '1905', '1925', '1921']\n",
    "years_list.sort(reverse= True)\n",
    "years_list"
   ]
  },
  {
   "cell_type": "code",
   "execution_count": 15,
   "id": "564b26d9-9aa0-45aa-aab1-c666c425300a",
   "metadata": {},
   "outputs": [
    {
     "data": {
      "text/plain": [
       "['Kathmandu', 'Lahore', 'london', 'new york']"
      ]
     },
     "execution_count": 15,
     "metadata": {},
     "output_type": "execute_result"
    }
   ],
   "source": [
    "clients_list = ['Kathmandu', 'london', 'new york', 'Lahore']\n",
    "clients_list.sort(key=str.lower)\n",
    "clients_list"
   ]
  },
  {
   "cell_type": "code",
   "execution_count": 19,
   "id": "86b35499-bfb7-48be-a0bc-8a7604146f56",
   "metadata": {},
   "outputs": [
    {
     "data": {
      "text/plain": [
       "[100, 5, 3, -1, -15]"
      ]
     },
     "execution_count": 19,
     "metadata": {},
     "output_type": "execute_result"
    }
   ],
   "source": [
    "num_list = [5,3,-1, -15,100]\n",
    "num_list.sort(reverse= True)\n",
    "num_list"
   ]
  },
  {
   "cell_type": "code",
   "execution_count": 21,
   "id": "262ce22f-2f2d-4248-a34f-22f9830d89b5",
   "metadata": {},
   "outputs": [
    {
     "data": {
      "text/plain": [
       "['Kathmandu', 'Lahore', 'london', 'new york']"
      ]
     },
     "execution_count": 21,
     "metadata": {},
     "output_type": "execute_result"
    }
   ],
   "source": [
    "#key = str.upper is used to change string into upper case\n",
    "clients_list = ['Kathmandu', 'london', 'new york', 'Lahore']\n",
    "clients_list.sort(key=str.upper)\n",
    "clients_list"
   ]
  },
  {
   "cell_type": "code",
   "execution_count": 51,
   "id": "bd88f0c6-10a9-4187-a7fd-9de18e403bb9",
   "metadata": {},
   "outputs": [
    {
     "data": {
      "text/plain": [
       "[3, 2, 1]"
      ]
     },
     "execution_count": 51,
     "metadata": {},
     "output_type": "execute_result"
    }
   ],
   "source": [
    "my_list=[1,2,3]\n",
    "my_list.reverse()\n",
    "my_list"
   ]
  },
  {
   "cell_type": "code",
   "execution_count": null,
   "id": "0ea98a4a-8484-4b0b-a6c1-609015c0c088",
   "metadata": {},
   "outputs": [],
   "source": []
  },
  {
   "cell_type": "code",
   "execution_count": 49,
   "id": "39ef44dd-7821-4f99-af2c-a0cf39d0c675",
   "metadata": {},
   "outputs": [
    {
     "name": "stdout",
     "output_type": "stream",
     "text": [
      "(1, 2, 3, 'hi', 'hello', 1, 2, 3)\n"
     ]
    }
   ],
   "source": [
    "#+ is used for concatenation\n",
    "list1=(1,2,3)\n",
    "list2= (\"hi\",\"hello\")\n",
    "list12=list1+list2+list1\n",
    "print(list12)"
   ]
  },
  {
   "cell_type": "code",
   "execution_count": 53,
   "id": "2de00174-fb4f-4e96-a214-2f42ee5d20b6",
   "metadata": {},
   "outputs": [
    {
     "data": {
      "text/plain": [
       "[1, 2, 3, 'hello', 'Hey']"
      ]
     },
     "execution_count": 53,
     "metadata": {},
     "output_type": "execute_result"
    }
   ],
   "source": [
    "list1=[1,2,3]\n",
    "list2=[\"hello\",\"Hey\"]\n",
    "list1.extend(list2)\n",
    "list1\n"
   ]
  },
  {
   "cell_type": "code",
   "execution_count": 57,
   "id": "c0fb9123-4e06-4391-8615-daf71ccc443d",
   "metadata": {},
   "outputs": [
    {
     "name": "stdout",
     "output_type": "stream",
     "text": [
      "x is greater than 7\n"
     ]
    }
   ],
   "source": [
    "#python conditionals if, else, elif\n",
    "# if some condition:\n",
    "#      code to run if the condition is true\n",
    "\n",
    "x = 7\n",
    "if x > 6:\n",
    "    print (\"x is greater than 7\")"
   ]
  },
  {
   "cell_type": "code",
   "execution_count": 63,
   "id": "b70024f1-70b8-47a6-9803-b223ef6678b8",
   "metadata": {},
   "outputs": [
    {
     "name": "stdout",
     "output_type": "stream",
     "text": [
      "x is less than 5\n"
     ]
    }
   ],
   "source": [
    "x = 3\n",
    "if x > 6:\n",
    "    print (\"x is greater than 7\")\n",
    "else:\n",
    "    print (\"x is less than 5\")"
   ]
  },
  {
   "cell_type": "code",
   "execution_count": 71,
   "id": "ab8b50c0-f50c-4818-862c-bee1a1cc61a8",
   "metadata": {},
   "outputs": [
    {
     "name": "stdout",
     "output_type": "stream",
     "text": [
      " allowed to vote\n"
     ]
    }
   ],
   "source": [
    "age = 20\n",
    "if age > 18 :\n",
    "    print (\" allowed to vote\")\n",
    "else :\n",
    "    print (\" not allowed to vote\")"
   ]
  },
  {
   "cell_type": "code",
   "execution_count": 79,
   "id": "9b32b029-d8f0-4170-9a30-9f668a09d6cb",
   "metadata": {},
   "outputs": [
    {
     "name": "stdout",
     "output_type": "stream",
     "text": [
      "get citizenship to vote\n"
     ]
    }
   ],
   "source": [
    "age = 18\n",
    "if age > 18 :\n",
    "    print (\" allowed to vote\")\n",
    "elif age < 18:\n",
    "    print (\" not allowed to vote\")\n",
    "elif age == 18:\n",
    "    print (\"get citizenship to vote\")"
   ]
  },
  {
   "cell_type": "code",
   "execution_count": 83,
   "id": "be28a679-899a-40a4-9c15-f8bacec0e407",
   "metadata": {},
   "outputs": [
    {
     "ename": "SyntaxError",
     "evalue": "invalid syntax. Perhaps you forgot a comma? (481047583.py, line 11)",
     "output_type": "error",
     "traceback": [
      "\u001b[0;36m  Cell \u001b[0;32mIn[83], line 11\u001b[0;36m\u001b[0m\n\u001b[0;31m    elif (cost food > 5000):\u001b[0m\n\u001b[0m          ^\u001b[0m\n\u001b[0;31mSyntaxError\u001b[0m\u001b[0;31m:\u001b[0m invalid syntax. Perhaps you forgot a comma?\n"
     ]
    }
   ],
   "source": [
    "# price - 500 - 1000 = 5% discount, 1000 - 5000 = 10%, above 5000 = 15%, below 500 = no discount and calculate\n",
    "cost_food = 3500\n",
    "if (cost_food > 500, cost_food < 1000):\n",
    "    print (\"You are eligible to receive a 5% discount\")\n",
    "    discounted_price = cost_food - (5/100 * cost_food)\n",
    "    print (discounted_price)\n",
    "elif (cost_food > 1000, cost_food < 5000):\n",
    "    print (\"you are eligible to receive 10% discount\")\n",
    "    discounted_price = cost_food - (10/100 * cost_food)\n",
    "    print (discounted_price)\n",
    "elif (cost food > 5000):\n",
    "    print (\"you are eligible to receive 15% discount\")\n",
    "    discounted_price = cost_food - (15/100 * cost_food)\n",
    "    print (discounted_price)\n",
    "elif (cost_food < 500):\n",
    "    print (\"no discount\")\n",
    "    "
   ]
  },
  {
   "cell_type": "code",
   "execution_count": 85,
   "id": "55140b3e-1338-44d4-91d8-b5a762dec2c0",
   "metadata": {},
   "outputs": [
    {
     "name": "stdout",
     "output_type": "stream",
     "text": [
      "You are eligible to receive a 10% discount\n",
      "3150.0\n"
     ]
    }
   ],
   "source": [
    "cost_food = 3500\n",
    "\n",
    "if 500 < cost_food <= 1000:\n",
    "    print(\"You are eligible to receive a 5% discount\")\n",
    "    discounted_price = cost_food - (5 / 100 * cost_food)\n",
    "    print(discounted_price)\n",
    "\n",
    "elif 1000 < cost_food <= 5000:\n",
    "    print(\"You are eligible to receive a 10% discount\")\n",
    "    discounted_price = cost_food - (10 / 100 * cost_food)\n",
    "    print(discounted_price)\n",
    "\n",
    "elif cost_food > 5000:\n",
    "    print(\"You are eligible to receive a 15% discount\")\n",
    "    discounted_price = cost_food - (15 / 100 * cost_food)\n",
    "    print(discounted_price)\n",
    "\n",
    "else:\n",
    "    print(\"No discount\")\n",
    "    "
   ]
  },
  {
   "cell_type": "code",
   "execution_count": null,
   "id": "5c5da587-ddb0-495b-8079-0a8fdb1f9a1f",
   "metadata": {},
   "outputs": [],
   "source": []
  }
 ],
 "metadata": {
  "kernelspec": {
   "display_name": "Python 3 (ipykernel)",
   "language": "python",
   "name": "python3"
  },
  "language_info": {
   "codemirror_mode": {
    "name": "ipython",
    "version": 3
   },
   "file_extension": ".py",
   "mimetype": "text/x-python",
   "name": "python",
   "nbconvert_exporter": "python",
   "pygments_lexer": "ipython3",
   "version": "3.12.4"
  }
 },
 "nbformat": 4,
 "nbformat_minor": 5
}
