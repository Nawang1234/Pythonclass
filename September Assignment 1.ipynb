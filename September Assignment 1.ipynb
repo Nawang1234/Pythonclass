{
 "cells": [
  {
   "cell_type": "code",
   "execution_count": 71,
   "id": "b127f8ba-c8e0-46f4-a976-512f893b3dbd",
   "metadata": {},
   "outputs": [
    {
     "name": "stdin",
     "output_type": "stream",
     "text": [
      "ENTER THE AMOUNT DEPOSITED:  2022\n",
      "ENTER THE RATE AMOUNT:  1\n",
      "ENTER THE TIME TAKEN:  2\n"
     ]
    },
    {
     "name": "stdout",
     "output_type": "stream",
     "text": [
      "the simple interest is: 2022.0\n"
     ]
    }
   ],
   "source": [
    "#Write a Python program that takes input for principal (P), rate of interest (R), and time (T) in years,\n",
    "#and calculates the simple interest using the formula:\n",
    "#Simple Interest=P×R×T/ 100\n",
    "\n",
    "principal = float(input(\"ENTER THE AMOUNT DEPOSITED: \"))\n",
    "rate = float(input(\"ENTER THE RATE AMOUNT: \"))\n",
    "time = float (input(\"ENTER THE TIME TAKEN: \" ))\n",
    "\n",
    "#calculation of interest\n",
    "\n",
    "interest = (principal*rate*time)/time\n",
    "\n",
    "print (f\"the simple interest is: {interest}\")\n",
    "\n",
    "                "
   ]
  },
  {
   "cell_type": "code",
   "execution_count": 87,
   "id": "0ae13429-8551-4129-bd40-d03440ff3c90",
   "metadata": {},
   "outputs": [
    {
     "ename": "NameError",
     "evalue": "name 'temperature_celsius' is not defined",
     "output_type": "error",
     "traceback": [
      "\u001b[0;31m---------------------------------------------------------------------------\u001b[0m",
      "\u001b[0;31mNameError\u001b[0m                                 Traceback (most recent call last)",
      "Cell \u001b[0;32mIn[87], line 7\u001b[0m\n\u001b[1;32m      1\u001b[0m \u001b[38;5;66;03m#Problem 2: Temperature Conversion\u001b[39;00m\n\u001b[1;32m      2\u001b[0m \u001b[38;5;66;03m# Write a program that converts a temperature from Celsius to Fahrenheit. The formula for conversion\u001b[39;00m\n\u001b[1;32m      3\u001b[0m \u001b[38;5;66;03m# is:\u001b[39;00m\n\u001b[1;32m      4\u001b[0m \u001b[38;5;66;03m# Where C is the temperature in Celsius and F is the temperature in Fahrenheit.\u001b[39;00m\n\u001b[1;32m      5\u001b[0m \u001b[38;5;66;03m# temperature_celsius = float(input(\" ENTER THE TEMPERATURE VALUE IN CELSIUS: \"))\u001b[39;00m\n\u001b[0;32m----> 7\u001b[0m temperature_fahrenheit \u001b[38;5;241m=\u001b[39m ((temperature_celsius \u001b[38;5;241m*\u001b[39m \u001b[38;5;241m9\u001b[39m)\u001b[38;5;241m/\u001b[39m\u001b[38;5;241m5\u001b[39m\u001b[38;5;241m+\u001b[39m\u001b[38;5;241m32\u001b[39m)\n\u001b[1;32m      9\u001b[0m \u001b[38;5;28mprint\u001b[39m (\u001b[38;5;124mf\u001b[39m\u001b[38;5;124m\"\u001b[39m\u001b[38;5;124mthe temperature value in celsius: \u001b[39m\u001b[38;5;132;01m{\u001b[39;00mtemperature_fahrenheit\u001b[38;5;132;01m}\u001b[39;00m\u001b[38;5;124m\"\u001b[39m)\n",
      "\u001b[0;31mNameError\u001b[0m: name 'temperature_celsius' is not defined"
     ]
    }
   ],
   "source": [
    "#Problem 2: Temperature Conversion\n",
    "# Write a program that converts a temperature from Celsius to Fahrenheit. The formula for conversion\n",
    "# is:\n",
    "# Where C is the temperature in Celsius and F is the temperature in Fahrenheit.\n",
    "temperature_celsius = float(input(\" ENTER THE TEMPERATURE VALUE IN CELSIUS: \"))\n",
    "\n",
    "temperature_fahrenheit = ((temperature_celsius * 9)/5+32)\n",
    "\n",
    "print (f\"the temperature value in celsius: {temperature_fahrenheit}\")\n",
    "\n",
    "                "
   ]
  },
  {
   "cell_type": "code",
   "execution_count": 41,
   "id": "f6af7fe0-aa30-416f-8f71-ee6c10cc80c7",
   "metadata": {},
   "outputs": [
    {
     "name": "stdin",
     "output_type": "stream",
     "text": [
      "Enter the number of people:  4\n"
     ]
    },
    {
     "name": "stdout",
     "output_type": "stream",
     "text": [
      "Each person needs to pay: Rs 1642.5\n"
     ]
    }
   ],
   "source": [
    "# Problem 3: Bill Splitter\n",
    "# You and your friends went to a restaurant. The bill is Rs 6570. Write a Python program that asks for\n",
    "# the number of people and splits the bill equally among them. Ensure the output shows how much\n",
    "# each person needs to pay.\n",
    "total_bill = 6570\n",
    "\n",
    "# Input for the number of people\n",
    "number_of_people = float(input(\"Enter the number of people: \"))\n",
    "\n",
    "if number_of_people > 0:\n",
    "    # Calculate the amount each person needs to pay\n",
    "    amount_per_person = total_bill / number_of_people\n",
    "    print(f\"Each person needs to pay: Rs {amount_per_person}\")\n",
    "else:\n",
    "    print(\"The number of people must be greater than zero.\")"
   ]
  },
  {
   "cell_type": "code",
   "execution_count": 77,
   "id": "924cfbcf-5d96-4bae-9a95-642159669fcf",
   "metadata": {},
   "outputs": [
    {
     "name": "stdout",
     "output_type": "stream",
     "text": [
      "The year 2024 is a leap year.\n"
     ]
    }
   ],
   "source": [
    "#Write a program that checks whether a given year is a leap year or not. A year is a leap year if it is:\n",
    "# Divisible by 4, but not divisible by 100, or\n",
    "# Divisible by 400.\n",
    "    \n",
    "year = 2024  # You can change this value to test different years\n",
    "\n",
    "if (year % 4 == 0 and (year % 100 != 0 or year % 400 == 0)):\n",
    "    print(f\"The year {year} is a leap year.\")\n",
    "else:\n",
    "    print(f\"The year {year} is not a leap year.\")"
   ]
  },
  {
   "cell_type": "code",
   "execution_count": 128,
   "id": "9d19ea89-a029-4e26-9280-468b233a1d94",
   "metadata": {},
   "outputs": [
    {
     "name": "stdin",
     "output_type": "stream",
     "text": [
      "Enter the name of item 1:  soap\n",
      "Enter the price of soap:  20\n",
      "Enter the name of item 2:  rice\n",
      "Enter the price of rice:  110\n",
      "Enter the name of item 3:  tuna\n",
      "Enter the price of tuna:  102\n",
      "Enter the name of item 4:  buff\n",
      "Enter the price of buff:  500\n",
      "Enter the name of item 5:  blanket\n",
      "Enter the price of blanket:  1000\n"
     ]
    },
    {
     "name": "stdout",
     "output_type": "stream",
     "text": [
      "Items in the grocery:\n",
      "- soap: Rs 20.0\n",
      "- rice: Rs 110.0\n",
      "- tuna: Rs 102.0\n",
      "- buff: Rs 500.0\n",
      "- blanket: Rs 1000.0\n",
      "Total cost of all items: Rs 1732.0\n"
     ]
    }
   ],
   "source": [
    "# You are managing a grocery store inventory. Write a program that asks the user to input the name\n",
    "# and price of 5 items and store them in a list. Then, display the total cost of all items.\n",
    "\n",
    "items = []\n",
    "total_cost = 0.0\n",
    "\n",
    "for i in range(5):\n",
    "    name_item = input(f\"Enter the name of item {i + 1}: \")\n",
    "    price_item = float(input(f\"Enter the price of {name_item}: \"))\n",
    "    total_cost += price_item  # Add price to total cost\n",
    "    items.append((name_item, price_item))  # Store as a tuple\n",
    "\n",
    "print(\"Items in the grocery:\")\n",
    "for name, price in items:\n",
    "    print(f\"- {name}: Rs {price}\")\n",
    "\n",
    "# Print the total cost of all items\n",
    "print(f\"Total cost of all items: Rs {total_cost}\")                                                                                                                                                                                                                                                                                                                                                                                                                                                                                                                                                                                                                                                                                                                                                                                                                                                                                                                                                                                                                                                                                                                                                                                                                                                                                                                                                                                                                                                                                                                                                                                                                                                                                                                                                                                                                                                                                                                                                                                                                                                                                                                                                                                                                                                                                                                                                                                                                                                                                                                                                           "
   ]
  },
  {
   "cell_type": "code",
   "execution_count": 16,
   "id": "8a8fb072-7fde-4225-ad78-bc0ab977328f",
   "metadata": {},
   "outputs": [
    {
     "name": "stdin",
     "output_type": "stream",
     "text": [
      "Enter a word:  nawang\n"
     ]
    },
    {
     "name": "stdout",
     "output_type": "stream",
     "text": [
      "The number of vowels in the word is 2\n"
     ]
    }
   ],
   "source": [
    "# Write a Python program that takes a string as input and counts the number of vowels (a, e, i,\n",
    "# o, u) in it. Ignore case sensitivity.\n",
    "letter = input(\"Enter a word: \")\n",
    "vowels = [\"a\", \"e\", \"i\", \"o\", \"u\", \"A\", \"E\", \"I\", \"O\", \"U\"]  # Include uppercase vowels\n",
    "num_vowel = 0\n",
    "\n",
    "for char in letter:  \n",
    "    if char in vowels:\n",
    "        num_vowel += 1  \n",
    "\n",
    "print(f\"The number of vowels in the word is {num_vowel}\")"
   ]
  },
  {
   "cell_type": "code",
   "execution_count": 38,
   "id": "edc16da6-2f8a-4069-99a7-cf762494b5ac",
   "metadata": {},
   "outputs": [
    {
     "name": "stdin",
     "output_type": "stream",
     "text": [
      "Enter your password:  Nawangl@1\n"
     ]
    },
    {
     "name": "stdout",
     "output_type": "stream",
     "text": [
      "The password is valid\n"
     ]
    }
   ],
   "source": [
    "#Create a program that checks whether a password entered by the user is valid based on the\n",
    "#following rules:\n",
    "#The password must be at least 8 characters long.\n",
    "#The password must contain at least one number and one uppercase letter.\n",
    "\n",
    "    password = input(\"Enter your password: \")\n",
    "length = 0\n",
    "num = 0\n",
    "upper = 0\n",
    "\n",
    "for char in password:\n",
    "    if char.isalpha() or char.isdigit():  \n",
    "        length += 1\n",
    "\n",
    "    if char.isdigit():  \n",
    "        num += 1\n",
    "\n",
    "    if char.isupper():  \n",
    "        upper += 1\n",
    "\n",
    "if length >= 8: \n",
    "    if num >= 1 and upper >= 1:  \n",
    "        print(\"The password is valid\")\n",
    "    else:\n",
    "        print(\"Include at least one number and one uppercase letter\")\n",
    "else:\n",
    "    print(\"The password should be longer than 8 characters\")"
   ]
  },
  {
   "cell_type": "code",
   "execution_count": 42,
   "id": "98b7be06-d6e4-4604-8ad9-9e2fbfed38b4",
   "metadata": {},
   "outputs": [
    {
     "name": "stdin",
     "output_type": "stream",
     "text": [
      "What is your age:  121\n"
     ]
    },
    {
     "name": "stdout",
     "output_type": "stream",
     "text": [
      "The movie ticket is Nrs. 150\n"
     ]
    }
   ],
   "source": [
    "#Problem 8: Movie Ticket Price Calculator\n",
    "#Write a program that calculates the price of a movie ticket based on the user's age. Ticket prices are\n",
    "#as follows:\n",
    "#Age under 18: Rs 108\n",
    "# Age 18-60: Rs 450\n",
    "#Age above 60: Rs 150\n",
    "#The program should ask the user their age and print the correct ticket price.\n",
    "\n",
    "age = int(input(\"What is your age: \"))  # Convert the input to an integer\n",
    "\n",
    "if age < 18:\n",
    "    print(\"The movie ticket is Nrs. 108\")\n",
    "elif 18 <= age < 60:  \n",
    "    print(\"The movie ticket is Nrs. 450\")\n",
    "else: \n",
    "    print(\"The movie ticket is Nrs. 150\")\n",
    "\n",
    "\n"
   ]
  },
  {
   "cell_type": "code",
   "execution_count": 60,
   "id": "a5f49627-7215-43ab-8f96-592f836d97ad",
   "metadata": {},
   "outputs": [
    {
     "name": "stdin",
     "output_type": "stream",
     "text": [
      "Enter a number:  10\n"
     ]
    },
    {
     "name": "stdout",
     "output_type": "stream",
     "text": [
      "10 * 1 = 10\n",
      "10 * 2 = 20\n",
      "10 * 3 = 30\n",
      "10 * 4 = 40\n",
      "10 * 5 = 50\n",
      "10 * 6 = 60\n",
      "10 * 7 = 70\n",
      "10 * 8 = 80\n",
      "10 * 9 = 90\n",
      "10 * 10 = 100\n"
     ]
    }
   ],
   "source": [
    "number = int(input(\"Enter a number: \")) \n",
    "\n",
    "for i in range(1, 11):  \n",
    "    print(f\"{number} * {i} = {number * i}\")\n",
    "    "
   ]
  },
  {
   "cell_type": "code",
   "execution_count": 85,
   "id": "23f90fab-6754-4318-8e3e-2ef358846bff",
   "metadata": {},
   "outputs": [
    {
     "name": "stdin",
     "output_type": "stream",
     "text": [
      "enter a number:  10\n"
     ]
    },
    {
     "name": "stdout",
     "output_type": "stream",
     "text": [
      "the sum of all even number = 20\n"
     ]
    }
   ],
   "source": [
    "#Problem 10: Sum of Even Numbers\n",
    "#Write a Python program that finds and prints the sum of all even numbers between 1 and a number\n",
    "#N (inclusive), where N is provided by the user.\n",
    "\n",
    "number = int(input(\"enter a number: \" ))\n",
    "sum_of_even_number = 0\n",
    "for i in range (1,number):\n",
    "    if (i%2 == 0):\n",
    "        sum_of_even_number += i\n",
    "print(f\"the sum of all even number = {sum_of_even_number}\")\n",
    "             \n"
   ]
  },
  {
   "cell_type": "code",
   "execution_count": null,
   "id": "86048185-7c4f-4c5c-96d2-f7f0a992933b",
   "metadata": {},
   "outputs": [],
   "source": []
  }
 ],
 "metadata": {
  "kernelspec": {
   "display_name": "Python 3 (ipykernel)",
   "language": "python",
   "name": "python3"
  },
  "language_info": {
   "codemirror_mode": {
    "name": "ipython",
    "version": 3
   },
   "file_extension": ".py",
   "mimetype": "text/x-python",
   "name": "python",
   "nbconvert_exporter": "python",
   "pygments_lexer": "ipython3",
   "version": "3.12.4"
  }
 },
 "nbformat": 4,
 "nbformat_minor": 5
}
