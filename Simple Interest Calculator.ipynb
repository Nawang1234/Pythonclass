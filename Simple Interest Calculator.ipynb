{
 "cells": [
  {
   "cell_type": "code",
   "execution_count": 2,
   "id": "68f7b1bc-b39b-4819-a5d0-605ccd78e780",
   "metadata": {},
   "outputs": [
    {
     "name": "stdin",
     "output_type": "stream",
     "text": [
      "ENTER THE AMOUNT DEPOSITED:  10000\n",
      "ENTER THE RATE AMOUNT:  10\n",
      "ENTER THE TIME TAKEN:  2\n"
     ]
    },
    {
     "name": "stdout",
     "output_type": "stream",
     "text": [
      "the simple interest is: 100000.0\n"
     ]
    }
   ],
   "source": [
    "#Write a Python program that takes input for principal (P), rate of interest (R), and time (T) in years,\n",
    "#and calculates the simple interest using the formula:\n",
    "#Simple Interest=P×R×T/ 100\n",
    "\n",
    "principal = float(input(\"ENTER THE AMOUNT DEPOSITED: \"))\n",
    "rate = float(input(\"ENTER THE RATE AMOUNT: \"))\n",
    "time = float (input(\"ENTER THE TIME TAKEN: \" ))\n",
    "\n",
    "#calculation of interest\n",
    "\n",
    "interest = (principal*rate*time)/time\n",
    "\n",
    "print (f\"the simple interest is: {interest}\")\n"
   ]
  },
  {
   "cell_type": "code",
   "execution_count": null,
   "id": "876a66fe-73a7-421f-bfd3-bb7f8467ec34",
   "metadata": {},
   "outputs": [],
   "source": []
  }
 ],
 "metadata": {
  "kernelspec": {
   "display_name": "Python 3 (ipykernel)",
   "language": "python",
   "name": "python3"
  },
  "language_info": {
   "codemirror_mode": {
    "name": "ipython",
    "version": 3
   },
   "file_extension": ".py",
   "mimetype": "text/x-python",
   "name": "python",
   "nbconvert_exporter": "python",
   "pygments_lexer": "ipython3",
   "version": "3.12.4"
  }
 },
 "nbformat": 4,
 "nbformat_minor": 5
}
