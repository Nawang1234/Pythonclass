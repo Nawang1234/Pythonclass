{
 "cells": [
  {
   "cell_type": "code",
   "execution_count": 6,
   "id": "917aaa73-0046-48bc-863b-9d2fcc89960a",
   "metadata": {},
   "outputs": [],
   "source": [
    "\"Object - oriented Concept....Class - blueprint for object\"\n",
    "#Definition of class, object, method and data \n",
    "\n",
    "\n",
    "class DataScience:  # class should start with a capital letter\n",
    "    school = \"School of Data Science\""
   ]
  },
  {
   "cell_type": "code",
   "execution_count": 21,
   "id": "5b6127bf-22f7-451d-997c-7560be051099",
   "metadata": {},
   "outputs": [
    {
     "name": "stdout",
     "output_type": "stream",
     "text": [
      "School of Data Science\n",
      "School of Data Science\n"
     ]
    }
   ],
   "source": [
    "class DataScience:\n",
    "    school = \"School of Data Science\" \n",
    "\n",
    "\n",
    "DataScience1 = DataScience()\n",
    "DataScience2 = DataScience()\n",
    "\n",
    "\n",
    "print(DataScience1.school)  \n",
    "print(DataScience2.school)  "
   ]
  },
  {
   "cell_type": "code",
   "execution_count": 46,
   "id": "71fce4e2-5d91-45f3-bb97-3a1006cdfbcf",
   "metadata": {},
   "outputs": [
    {
     "name": "stdout",
     "output_type": "stream",
     "text": [
      "Nidhi is learning python\n",
      "Pasang is learning python\n",
      "Harry is learning python\n"
     ]
    }
   ],
   "source": [
    "class DataScience:\n",
    "    language = \"python\"\n",
    "\n",
    "Nidhi = DataScience()\n",
    "Pasang = DataScience()\n",
    "Harry = DataScience()\n",
    "\n",
    "print (\"Nidhi is learning\", Nidhi.language)\n",
    "print (\"Pasang is learning\", Pasang.language)\n",
    "print (\"Harry is learning\", Harry.language)"
   ]
  },
  {
   "cell_type": "code",
   "execution_count": 42,
   "id": "b81c9ed8-7912-4696-87dd-76ef1a4fbc19",
   "metadata": {},
   "outputs": [
    {
     "name": "stdout",
     "output_type": "stream",
     "text": [
      "Nidhi is learning python\n",
      "Pasang is learning R programming\n",
      "Harry is learning python\n"
     ]
    }
   ],
   "source": [
    "class DataScience:\n",
    "    language1 = \"python\"\n",
    "    language2 = \"R programming\"\n",
    "\n",
    "Nidhi = DataScience()\n",
    "Pasang = DataScience()\n",
    "Harry = DataScience()\n",
    "\n",
    "print (\"Nidhi is learning\", Nidhi.language1)\n",
    "print (\"Pasang is learning\", Pasang.language2)\n",
    "print (\"Harry is learning\", Harry.language1)"
   ]
  },
  {
   "cell_type": "code",
   "execution_count": 67,
   "id": "7e0126b1-695d-4456-9fc6-b367279a64c0",
   "metadata": {},
   "outputs": [
    {
     "name": "stdout",
     "output_type": "stream",
     "text": [
      "Nidhi is on level 1\n",
      "Pasang is on level 2\n"
     ]
    }
   ],
   "source": [
    "class DataScience:\n",
    "    language = \"python\"\n",
    "    \n",
    "    def __init__(self, name, level):\n",
    "        self.name = name\n",
    "        self.level = level\n",
    "\n",
    "student1 = DataScience(\"Nidhi\", 1)\n",
    "student2 = DataScience(\"Pasang\", 2)\n",
    "student3 = DataScience(\"Harry\", 3)\n",
    "\n",
    "print (student1.name, \"is on level\", student1.level)\n",
    "print (student2.name, \"is on level\", student2.level)\n"
   ]
  },
  {
   "cell_type": "code",
   "execution_count": 76,
   "id": "5b720415-375c-438e-b434-3344679ca258",
   "metadata": {},
   "outputs": [
    {
     "name": "stdout",
     "output_type": "stream",
     "text": [
      "Nawang studied in level 1\n",
      "Harry studied in level 2\n"
     ]
    }
   ],
   "source": [
    "class Student:\n",
    "    def __init__(self, name, level):\n",
    "        self.name = name\n",
    "        self.level = level\n",
    "\n",
    "    # __str__ method to return a string representation of the object\n",
    "    def __str__(self):\n",
    "        return '{} studied in level {}'.format(self.name, self.level)\n",
    "        \n",
    "student1 = Student(\"Nawang\",1)\n",
    "student2 = Student(\"Harry\",2)\n",
    "\n",
    "print (student1)\n",
    "print (student2)"
   ]
  },
  {
   "cell_type": "code",
   "execution_count": 78,
   "id": "e8803d0f-2c5e-46d4-832d-a611e9e9b8bd",
   "metadata": {},
   "outputs": [
    {
     "name": "stdout",
     "output_type": "stream",
     "text": [
      "Nawang studied in level1\n",
      "Tenzing studied in level2\n"
     ]
    }
   ],
   "source": [
    "class Student:\n",
    "    def __init__(self,name,level):\n",
    "        self.name = name\n",
    "        self.level = level\n",
    "    def __str__(self):\n",
    "        return '{} studied in level{}'.format(self.name, self.level)\n",
    "\n",
    "student_1 = Student(\"Nawang\",1)\n",
    "student_2 = Student(\"Tenzing\",2)\n",
    "\n",
    "print (student_1)\n",
    "print (student_2)"
   ]
  },
  {
   "cell_type": "code",
   "execution_count": 80,
   "id": "d4cb252d-0b30-4040-aa82-4844ba51058b",
   "metadata": {},
   "outputs": [
    {
     "name": "stdout",
     "output_type": "stream",
     "text": [
      "Nawang studied in level1\n",
      "Tenzing studied in level2\n"
     ]
    }
   ],
   "source": [
    "class Student:\n",
    "    def __init__(self,name,level):\n",
    "        self.name = name\n",
    "        self.level = level\n",
    "    def __str__(self):\n",
    "        return '{} studied in level{}'.format(self.name, self.level)\n",
    "    def level_up(self):\n",
    "        self.level += 1\n",
    "\n",
    "student_1 = Student(\"Nawang\",1)\n",
    "student_2 = Student(\"Tenzing\",2)\n",
    "\n",
    "print (student_1)\n",
    "print (student_2)"
   ]
  },
  {
   "cell_type": "code",
   "execution_count": null,
   "id": "8e7a2f00-4c62-4ef3-892b-59bd303e20a6",
   "metadata": {},
   "outputs": [],
   "source": []
  }
 ],
 "metadata": {
  "kernelspec": {
   "display_name": "Python 3 (ipykernel)",
   "language": "python",
   "name": "python3"
  },
  "language_info": {
   "codemirror_mode": {
    "name": "ipython",
    "version": 3
   },
   "file_extension": ".py",
   "mimetype": "text/x-python",
   "name": "python",
   "nbconvert_exporter": "python",
   "pygments_lexer": "ipython3",
   "version": "3.12.4"
  }
 },
 "nbformat": 4,
 "nbformat_minor": 5
}
