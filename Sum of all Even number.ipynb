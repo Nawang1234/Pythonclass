{
 "cells": [
  {
   "cell_type": "code",
   "execution_count": 3,
   "id": "0d3bce8e-0063-4754-b539-78ffa4ead1ef",
   "metadata": {},
   "outputs": [
    {
     "name": "stdin",
     "output_type": "stream",
     "text": [
      "enter a number:  101\n"
     ]
    },
    {
     "name": "stdout",
     "output_type": "stream",
     "text": [
      "the sum of all even number = 2550\n"
     ]
    }
   ],
   "source": [
    "#Problem 10: Sum of Even Numbers\n",
    "#Write a Python program that finds and prints the sum of all even numbers between 1 and a number\n",
    "#N (inclusive), where N is provided by the user.\n",
    "\n",
    "number = int(input(\"enter a number: \" ))\n",
    "sum_of_even_number = 0\n",
    "for i in range (1,number):\n",
    "    if (i%2 == 0):\n",
    "        sum_of_even_number += i\n",
    "print(f\"the sum of all even number = {sum_of_even_number}\")\n",
    "             \n"
   ]
  },
  {
   "cell_type": "code",
   "execution_count": null,
   "id": "695d63b9-a816-4461-bbd7-cede770569e5",
   "metadata": {},
   "outputs": [],
   "source": []
  }
 ],
 "metadata": {
  "kernelspec": {
   "display_name": "Python 3 (ipykernel)",
   "language": "python",
   "name": "python3"
  },
  "language_info": {
   "codemirror_mode": {
    "name": "ipython",
    "version": 3
   },
   "file_extension": ".py",
   "mimetype": "text/x-python",
   "name": "python",
   "nbconvert_exporter": "python",
   "pygments_lexer": "ipython3",
   "version": "3.12.4"
  }
 },
 "nbformat": 4,
 "nbformat_minor": 5
}
