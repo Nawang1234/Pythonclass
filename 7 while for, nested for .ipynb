{
 "cells": [
  {
   "cell_type": "code",
   "execution_count": 1,
   "id": "c087c0fe-c578-4574-a7b8-8f6b76f2b3a0",
   "metadata": {},
   "outputs": [
    {
     "name": "stdout",
     "output_type": "stream",
     "text": [
      "2\n",
      "4\n",
      "6\n",
      "8\n",
      "10\n",
      "12\n",
      "14\n"
     ]
    }
   ],
   "source": [
    "x = 2\n",
    "while x < 20:\n",
    "    print (x)\n",
    "    x += 2\n",
    "    if x == 16:\n",
    "        break"
   ]
  },
  {
   "cell_type": "code",
   "execution_count": 3,
   "id": "bd7d74d2-c2c9-4e34-b169-d734312d110d",
   "metadata": {},
   "outputs": [
    {
     "name": "stdout",
     "output_type": "stream",
     "text": [
      " one \n",
      " two \n",
      "three\n"
     ]
    }
   ],
   "source": [
    "int = [ \" one \", \" two \", \"three\"]\n",
    "for num in int:\n",
    "    print (num)"
   ]
  },
  {
   "cell_type": "code",
   "execution_count": 20,
   "id": "e72515b9-6329-496a-b9f9-84756d1c7188",
   "metadata": {},
   "outputs": [
    {
     "name": "stdout",
     "output_type": "stream",
     "text": [
      " one \n",
      " two \n"
     ]
    }
   ],
   "source": [
    "int = [ \" one \", \" two \", \"three\"]\n",
    "for num in int:\n",
    "    if num == \"three\":\n",
    "        break\n",
    "    print (num)"
   ]
  },
  {
   "cell_type": "code",
   "execution_count": 22,
   "id": "dde3f227-279c-4964-b089-2dd44a6b3a61",
   "metadata": {},
   "outputs": [
    {
     "name": "stdout",
     "output_type": "stream",
     "text": [
      "5\n",
      "6\n",
      "7\n",
      "8\n",
      "9\n"
     ]
    }
   ],
   "source": [
    "x = 5\n",
    "while x < 10:\n",
    "    print (x)\n",
    "    x += 1"
   ]
  },
  {
   "cell_type": "code",
   "execution_count": 24,
   "id": "3427afe8-3454-455f-a092-31d7ea98aa90",
   "metadata": {},
   "outputs": [
    {
     "name": "stdout",
     "output_type": "stream",
     "text": [
      "0\n",
      "1\n",
      "2\n",
      "3\n"
     ]
    }
   ],
   "source": [
    "x = 0\n",
    "while x < 10:\n",
    "    print (x)\n",
    "    x += 1\n",
    "    if x == 4:\n",
    "        break"
   ]
  },
  {
   "cell_type": "code",
   "execution_count": 26,
   "id": "7bde86f0-812b-4e54-9e09-3f9e488f7c55",
   "metadata": {},
   "outputs": [
    {
     "name": "stdout",
     "output_type": "stream",
     "text": [
      " one \n",
      " two \n"
     ]
    }
   ],
   "source": [
    "int = [ \" one \", \" two \", \"three\"]\n",
    "for num in int: # for (what you searching) in (where you searching)\n",
    "    if num == \"three\":\n",
    "        break\n",
    "    print (num)"
   ]
  },
  {
   "cell_type": "code",
   "execution_count": 34,
   "id": "0f6b55a6-5a3e-4ba2-badf-599f1cf45e10",
   "metadata": {},
   "outputs": [
    {
     "name": "stdout",
     "output_type": "stream",
     "text": [
      "p\n",
      "y\n",
      "t\n",
      "h\n",
      "o\n",
      "n\n"
     ]
    }
   ],
   "source": [
    "\n",
    "for i in \"python\":\n",
    "    print (i)"
   ]
  },
  {
   "cell_type": "code",
   "execution_count": 38,
   "id": "178b1dcb-54b2-4240-81ab-d484d4c726b3",
   "metadata": {},
   "outputs": [
    {
     "name": "stdout",
     "output_type": "stream",
     "text": [
      "2\n",
      "3\n",
      "4\n",
      "5\n",
      "6\n"
     ]
    }
   ],
   "source": [
    "for i in range (2,7):\n",
    "    print (i)"
   ]
  },
  {
   "cell_type": "code",
   "execution_count": 40,
   "id": "16ee10f4-1741-449b-a8ea-c1f4e69cdbb6",
   "metadata": {},
   "outputs": [
    {
     "name": "stdout",
     "output_type": "stream",
     "text": [
      "2\n",
      "5\n",
      "8\n"
     ]
    }
   ],
   "source": [
    "#the third value in the range is the number to be added to the first value\n",
    "for i in range (2,10,3):\n",
    "    print (i)"
   ]
  },
  {
   "cell_type": "code",
   "execution_count": 42,
   "id": "ff6e79e3-5a95-4444-9927-4e47f04c2866",
   "metadata": {},
   "outputs": [
    {
     "name": "stdout",
     "output_type": "stream",
     "text": [
      "3\n",
      "6\n",
      "9\n",
      "12\n",
      "15\n"
     ]
    }
   ],
   "source": [
    "for i in range (3,17,3):\n",
    "    print (i)"
   ]
  },
  {
   "cell_type": "code",
   "execution_count": 44,
   "id": "9c7ade69-fc1b-4e6f-b732-d84c7c745a46",
   "metadata": {},
   "outputs": [
    {
     "name": "stdout",
     "output_type": "stream",
     "text": [
      "red table\n",
      "red chair\n",
      "red house\n",
      "blue table\n",
      "blue chair\n",
      "blue house\n",
      "green table\n",
      "green chair\n",
      "green house\n"
     ]
    }
   ],
   "source": [
    "colors = [\"red\",\"blue\",\"green\"]\n",
    "objects =[\"table\",\"chair\",\"house\"]\n",
    "for i in colors:\n",
    "    for j in objects:\n",
    "        print (i,j)"
   ]
  },
  {
   "cell_type": "code",
   "execution_count": 46,
   "id": "3eed021a-c9f9-44b3-a953-9c2d0f1b375c",
   "metadata": {},
   "outputs": [
    {
     "name": "stdout",
     "output_type": "stream",
     "text": [
      "1 5\n",
      "1 4\n",
      "1 3\n",
      "1 2\n",
      "1 1\n",
      "2 5\n",
      "2 4\n",
      "2 3\n",
      "2 2\n",
      "2 1\n",
      "3 5\n",
      "3 4\n",
      "3 3\n",
      "3 2\n",
      "3 1\n",
      "4 5\n",
      "4 4\n",
      "4 3\n",
      "4 2\n",
      "4 1\n",
      "5 5\n",
      "5 4\n",
      "5 3\n",
      "5 2\n",
      "5 1\n"
     ]
    }
   ],
   "source": [
    "list_1 = [1,2,3,4,5]\n",
    "list_2 =[5,4,3,2,1]\n",
    "for i in list_1:\n",
    "    for j in list_2:\n",
    "        print (i,j)"
   ]
  },
  {
   "cell_type": "code",
   "execution_count": 74,
   "id": "6d2a2962-4985-4698-be3f-f5d6025d814e",
   "metadata": {},
   "outputs": [
    {
     "name": "stdout",
     "output_type": "stream",
     "text": [
      "2*3= 6\n",
      "2*5= 10\n",
      "2*7= 14\n",
      "2*9= 18\n",
      "2*11= 22\n",
      "2*13= 26\n",
      "5*3= 15\n",
      "5*5= 25\n",
      "5*7= 35\n",
      "5*9= 45\n",
      "5*11= 55\n",
      "5*13= 65\n",
      "8*3= 24\n",
      "8*5= 40\n",
      "8*7= 56\n",
      "8*9= 72\n",
      "8*11= 88\n",
      "8*13= 104\n"
     ]
    }
   ],
   "source": [
    "#f is for formatting in print function.\n",
    "for i in range (2,10,3):\n",
    "    for j in range (3,15,2):\n",
    "        print (f\"{i}*{j}=\",i*j)"
   ]
  },
  {
   "cell_type": "code",
   "execution_count": 84,
   "id": "561be270-9656-46da-ae5b-0e978efdf7a6",
   "metadata": {},
   "outputs": [
    {
     "ename": "NameError",
     "evalue": "name 'end' is not defined",
     "output_type": "error",
     "traceback": [
      "\u001b[0;31m---------------------------------------------------------------------------\u001b[0m",
      "\u001b[0;31mNameError\u001b[0m                                 Traceback (most recent call last)",
      "Cell \u001b[0;32mIn[84], line 3\u001b[0m\n\u001b[1;32m      1\u001b[0m \u001b[38;5;28;01mfor\u001b[39;00m i \u001b[38;5;129;01min\u001b[39;00m \u001b[38;5;28mrange\u001b[39m (\u001b[38;5;241m2\u001b[39m,\u001b[38;5;241m10\u001b[39m,\u001b[38;5;241m3\u001b[39m):\n\u001b[1;32m      2\u001b[0m     \u001b[38;5;28;01mfor\u001b[39;00m j \u001b[38;5;129;01min\u001b[39;00m \u001b[38;5;28mrange\u001b[39m (\u001b[38;5;241m3\u001b[39m,\u001b[38;5;241m15\u001b[39m,\u001b[38;5;241m2\u001b[39m):\n\u001b[0;32m----> 3\u001b[0m         \u001b[38;5;28mprint\u001b[39m (j, end \u001b[38;5;241m*\u001b[39m \u001b[38;5;124m'\u001b[39m\u001b[38;5;124m \u001b[39m\u001b[38;5;124m'\u001b[39m)\n\u001b[1;32m      4\u001b[0m     \u001b[38;5;28mprint\u001b[39m (\u001b[38;5;124m\"\u001b[39m\u001b[38;5;124m \u001b[39m\u001b[38;5;124m\"\u001b[39m)\n",
      "\u001b[0;31mNameError\u001b[0m: name 'end' is not defined"
     ]
    }
   ],
   "source": [
    "for i in range (2,10,3):\n",
    "    for j in range (3,15,2):\n",
    "        print (j, end * ' ')\n",
    "    print (\" \")"
   ]
  },
  {
   "cell_type": "code",
   "execution_count": null,
   "id": "04bb3f16-9f0a-441e-9878-dbb40f30e428",
   "metadata": {},
   "outputs": [],
   "source": [
    "# defining function of function "
   ]
  }
 ],
 "metadata": {
  "kernelspec": {
   "display_name": "Python 3 (ipykernel)",
   "language": "python",
   "name": "python3"
  },
  "language_info": {
   "codemirror_mode": {
    "name": "ipython",
    "version": 3
   },
   "file_extension": ".py",
   "mimetype": "text/x-python",
   "name": "python",
   "nbconvert_exporter": "python",
   "pygments_lexer": "ipython3",
   "version": "3.12.4"
  }
 },
 "nbformat": 4,
 "nbformat_minor": 5
}
