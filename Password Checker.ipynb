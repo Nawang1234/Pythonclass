{
 "cells": [
  {
   "cell_type": "code",
   "execution_count": null,
   "id": "a1833f38-8b42-4bae-9a37-a49a9267ce23",
   "metadata": {},
   "outputs": [],
   "source": [
    "#Create a program that checks whether a password entered by the user is valid based on the\n",
    "#following rules:\n",
    "#The password must be at least 8 characters long.\n",
    "#The password must contain at least one number and one uppercase letter.\n",
    "\n",
    "    password = input(\"Enter your password: \")\n",
    "length = 0\n",
    "num = 0\n",
    "upper = 0\n",
    "\n",
    "for char in password:\n",
    "    if char.isalpha() or char.isdigit():  \n",
    "        length += 1\n",
    "\n",
    "    if char.isdigit():  \n",
    "        num += 1\n",
    "\n",
    "    if char.isupper():  \n",
    "        upper += 1\n",
    "\n",
    "if length >= 8: \n",
    "    if num >= 1 and upper >= 1:  \n",
    "        print(\"The password is valid\")\n",
    "    else:\n",
    "        print(\"Include at least one number and one uppercase letter\")\n",
    "else:\n",
    "    print(\"The password should be longer than 8 characters\")"
   ]
  }
 ],
 "metadata": {
  "kernelspec": {
   "display_name": "Python 3 (ipykernel)",
   "language": "python",
   "name": "python3"
  },
  "language_info": {
   "codemirror_mode": {
    "name": "ipython",
    "version": 3
   },
   "file_extension": ".py",
   "mimetype": "text/x-python",
   "name": "python",
   "nbconvert_exporter": "python",
   "pygments_lexer": "ipython3",
   "version": "3.12.4"
  }
 },
 "nbformat": 4,
 "nbformat_minor": 5
}
